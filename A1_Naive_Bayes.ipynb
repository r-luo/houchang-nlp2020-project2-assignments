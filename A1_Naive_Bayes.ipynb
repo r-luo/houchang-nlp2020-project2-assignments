{
 "cells": [
  {
   "cell_type": "code",
   "execution_count": 322,
   "metadata": {
    "ExecuteTime": {
     "end_time": "2020-04-03T04:31:05.795004Z",
     "start_time": "2020-04-03T04:31:05.788873Z"
    }
   },
   "outputs": [],
   "source": [
    "from pathlib import Path\n",
    "import pandas as pd\n",
    "import numpy as np\n",
    "import re\n",
    "import jieba as jb\n",
    "from sklearn.feature_extraction.text import CountVectorizer\n",
    "from sklearn.model_selection import train_test_split\n",
    "from sklearn.metrics import precision_score, recall_score, accuracy_score"
   ]
  },
  {
   "cell_type": "code",
   "execution_count": 193,
   "metadata": {
    "ExecuteTime": {
     "end_time": "2020-04-03T03:19:48.402893Z",
     "start_time": "2020-04-03T03:19:48.014073Z"
    }
   },
   "outputs": [],
   "source": [
    "data_path = Path('./data')\n",
    "categories = [d.name for d in data_path.glob('高中*')]\n",
    "categories\n",
    "subcategories = {catg: [d.stem for d in data_path.joinpath(f'{catg}/origin/').glob('*.csv')] for catg in categories}\n",
    "dfs = {\n",
    "    catg:{\n",
    "        sub_catg: pd.read_csv(data_path.joinpath(f'{catg}/origin/{sub_catg}.csv')) for sub_catg in subcategories[catg]\n",
    "    }\n",
    "    for catg in subcategories\n",
    "}\n",
    "\n",
    "cols = ['题目', '题型', '难度', '答案', '解析']"
   ]
  },
  {
   "cell_type": "code",
   "execution_count": 194,
   "metadata": {
    "ExecuteTime": {
     "end_time": "2020-04-03T03:19:48.407532Z",
     "start_time": "2020-04-03T03:19:48.404497Z"
    },
    "scrolled": true
   },
   "outputs": [
    {
     "data": {
      "text/plain": [
       "{'高中_历史': ['古代史', '现代史', '近代史'],\n",
       " '高中_地理': ['人口与城市', '区域可持续发展', '地球与地图', '宇宙中的地球', '生产活动与地域联系'],\n",
       " '高中_政治': ['公民道德与伦理常识', '时事政治', '生活中的法律常识', '科学思维常识', '科学社会主义常识', '经济学常识'],\n",
       " '高中_生物': ['分子与细胞', '现代生物技术专题', '生物技术实践', '生物科学与社会', '稳态与环境', '遗传与进化']}"
      ]
     },
     "execution_count": 194,
     "metadata": {},
     "output_type": "execute_result"
    }
   ],
   "source": [
    "subcategories"
   ]
  },
  {
   "cell_type": "code",
   "execution_count": 195,
   "metadata": {
    "ExecuteTime": {
     "end_time": "2020-04-03T03:19:48.619202Z",
     "start_time": "2020-04-03T03:19:48.408816Z"
    }
   },
   "outputs": [
    {
     "name": "stdout",
     "output_type": "stream",
     "text": [
      "高中_历史 - 现代史 does not all contain 知识点：\n"
     ]
    }
   ],
   "source": [
    "split_points = [\n",
    "    '题型:',\n",
    "    '难度:',\n",
    "    '使用次数:',\n",
    "    '答案：',\n",
    "    '解析：',\n",
    "    '[题目]',\n",
    "    '[知识点：]',\n",
    "    '知识点：',\n",
    "]\n",
    "for s in split_points:\n",
    "    for i in dfs:\n",
    "        for j in dfs[i]:\n",
    "            if not dfs[i][j].item.str.contains(s).all():\n",
    "                print(f'{i} - {j} does not all contain {s}')"
   ]
  },
  {
   "cell_type": "code",
   "execution_count": 196,
   "metadata": {
    "ExecuteTime": {
     "end_time": "2020-04-03T03:19:48.626578Z",
     "start_time": "2020-04-03T03:19:48.620736Z"
    }
   },
   "outputs": [],
   "source": [
    "def preprocessing(df):\n",
    "    item_col = df['item'].copy().str.replace('\\[题目\\]|\\[知识点：\\]|\\\\n|（\\s*）|\\(\\s*\\)|【解答】|解：', '')\n",
    "    \n",
    "    split = item_col.str.split('题型:').str\n",
    "    df.loc[:, '题目'] = split[0].str.strip()\n",
    "    \n",
    "    split = split[1].str.split('\\|难度:').str\n",
    "    df.loc[:, '题型'] = split[0].str.strip()\n",
    "    \n",
    "    split = split[1].str.split('\\|使用次数:').str\n",
    "    df.loc[:, '难度'] = split[0].str.strip()\n",
    "    \n",
    "    split = split[1].str.split('答案：').str[1].str.split('解析：').str\n",
    "    df.loc[:, '答案'] = split[0].str.strip()\n",
    "    \n",
    "    split = split[1].str.split('知识点：').str\n",
    "    df.loc[:, '解析'], df.loc[:, '知识点'] = split[0].str.strip(), split[1].str.strip()\n",
    "    return df"
   ]
  },
  {
   "cell_type": "code",
   "execution_count": 197,
   "metadata": {
    "ExecuteTime": {
     "end_time": "2020-04-03T03:19:50.294018Z",
     "start_time": "2020-04-03T03:19:49.230433Z"
    }
   },
   "outputs": [],
   "source": [
    "processed_dfs = {\n",
    "    catg:{\n",
    "        sub_catg: preprocessing(dfs[catg][sub_catg]) for sub_catg in subcategories[catg]\n",
    "    }\n",
    "    for catg in subcategories\n",
    "}"
   ]
  },
  {
   "cell_type": "code",
   "execution_count": 366,
   "metadata": {
    "ExecuteTime": {
     "end_time": "2020-04-03T06:53:57.508697Z",
     "start_time": "2020-04-03T06:53:55.807788Z"
    }
   },
   "outputs": [],
   "source": [
    "total_df = pd.DataFrame()\n",
    "for catg in processed_dfs:\n",
    "    for sub_catg in processed_dfs[catg]:\n",
    "        df = processed_dfs[catg][sub_catg][cols].copy()\n",
    "        df.loc[:, 'combined_text'] = df[cols].fillna('').agg(' '.join, axis=1)\n",
    "        df.loc[:, 'catg'] = catg\n",
    "        df.loc[:, 'sub_catg'] = sub_catg\n",
    "        total_df = pd.concat([total_df, df], axis=0)\n",
    "total_df = total_df.reset_index(drop=True)"
   ]
  },
  {
   "cell_type": "code",
   "execution_count": 368,
   "metadata": {
    "ExecuteTime": {
     "end_time": "2020-04-03T06:54:01.958349Z",
     "start_time": "2020-04-03T06:54:01.951940Z"
    }
   },
   "outputs": [],
   "source": [
    "def segment_line(line):\n",
    "    \"\"\"\n",
    "    预处理和分词\n",
    "    \"\"\"\n",
    "    line = re.sub(\n",
    "            \"[a-zA-Z0-9]|[\\s+\\-\\|\\!\\/\\[\\]\\{\\}_,.$%^*(+\\\"\\')]+|[:：+——()?【】《》“”！，。？、~@#￥%……&*（）]+|题目\", '',line)\n",
    "    tokens = jb.cut(line, cut_all=False)\n",
    "    return \" \".join(tokens)"
   ]
  },
  {
   "cell_type": "code",
   "execution_count": 369,
   "metadata": {
    "ExecuteTime": {
     "end_time": "2020-04-03T06:54:29.213009Z",
     "start_time": "2020-04-03T06:54:01.961913Z"
    }
   },
   "outputs": [],
   "source": [
    "total_df.loc[:, 'split_combined'] = total_df['combined_text'].apply(segment_line)"
   ]
  },
  {
   "cell_type": "code",
   "execution_count": 370,
   "metadata": {
    "ExecuteTime": {
     "end_time": "2020-04-03T06:54:29.238892Z",
     "start_time": "2020-04-03T06:54:29.214386Z"
    }
   },
   "outputs": [],
   "source": [
    "for col in 'catg', 'sub_catg':\n",
    "    total_df.loc[:, col] = total_df[col].astype('category')"
   ]
  },
  {
   "cell_type": "code",
   "execution_count": 371,
   "metadata": {
    "ExecuteTime": {
     "end_time": "2020-04-03T06:54:29.263017Z",
     "start_time": "2020-04-03T06:54:29.240619Z"
    },
    "scrolled": true
   },
   "outputs": [
    {
     "data": {
      "text/html": [
       "<div>\n",
       "<style scoped>\n",
       "    .dataframe tbody tr th:only-of-type {\n",
       "        vertical-align: middle;\n",
       "    }\n",
       "\n",
       "    .dataframe tbody tr th {\n",
       "        vertical-align: top;\n",
       "    }\n",
       "\n",
       "    .dataframe thead th {\n",
       "        text-align: right;\n",
       "    }\n",
       "</style>\n",
       "<table border=\"1\" class=\"dataframe\">\n",
       "  <thead>\n",
       "    <tr style=\"text-align: right;\">\n",
       "      <th></th>\n",
       "      <th>题目</th>\n",
       "      <th>题型</th>\n",
       "      <th>难度</th>\n",
       "      <th>答案</th>\n",
       "      <th>解析</th>\n",
       "      <th>combined_text</th>\n",
       "      <th>catg</th>\n",
       "      <th>sub_catg</th>\n",
       "      <th>split_combined</th>\n",
       "    </tr>\n",
       "  </thead>\n",
       "  <tbody>\n",
       "    <tr>\n",
       "      <th>0</th>\n",
       "      <td>据《左传》记载，春秋后期鲁国大夫季孙氏的家臣阳虎独掌权柄后，标榜要替鲁国国君整肃跋扈的大夫，...</td>\n",
       "      <td>单选题</td>\n",
       "      <td>一般</td>\n",
       "      <td>D</td>\n",
       "      <td>阳虎的身份是鲁国大夫、季孙氏的家臣，按周礼的规定，他效忠于季孙氏，而他标榜为鲁国国君整肃大夫...</td>\n",
       "      <td>据《左传》记载，春秋后期鲁国大夫季孙氏的家臣阳虎独掌权柄后，标榜要替鲁国国君整肃跋扈的大夫，...</td>\n",
       "      <td>高中_历史</td>\n",
       "      <td>古代史</td>\n",
       "      <td>据 左传 记载 春秋 后期 鲁国 大夫 季孙氏 的 家臣 阳虎 独掌 权柄 后 标榜 要 替...</td>\n",
       "    </tr>\n",
       "    <tr>\n",
       "      <th>1</th>\n",
       "      <td>秦始皇统一六国后创制了一套御玺。如任命国家官员，则封印“皇帝之玺”；若任命四夷的官员，则用“...</td>\n",
       "      <td>单选题</td>\n",
       "      <td>一般</td>\n",
       "      <td>D</td>\n",
       "      <td>本题要求选择否定项，据材料提到，秦始皇统一六国后创制了一套御玺，如任命国家官员，则封印“皇帝...</td>\n",
       "      <td>秦始皇统一六国后创制了一套御玺。如任命国家官员，则封印“皇帝之玺”；若任命四夷的官员，则用“...</td>\n",
       "      <td>高中_历史</td>\n",
       "      <td>古代史</td>\n",
       "      <td>秦始皇 统一 六国后 创制 了 一套 御玺 如 任命 国家 官员 则 封印 皇帝 之玺 ； ...</td>\n",
       "    </tr>\n",
       "    <tr>\n",
       "      <th>2</th>\n",
       "      <td>北宋加强中央集权的主要措施有①把主要将领的兵权收归中央②派文官担任地方长官③设置通判监督地方...</td>\n",
       "      <td>单选题</td>\n",
       "      <td>一般</td>\n",
       "      <td>B</td>\n",
       "      <td>本题考查北宋加强中央集权的主要措施，结合所学知识可知，北宋把主要将领的兵权收归中央，派文官担...</td>\n",
       "      <td>北宋加强中央集权的主要措施有①把主要将领的兵权收归中央②派文官担任地方长官③设置通判监督地方...</td>\n",
       "      <td>高中_历史</td>\n",
       "      <td>古代史</td>\n",
       "      <td>北宋 加强 中央集权 的 主要 措施 有 ① 把 主要 将领 的 兵权 收归 中央 ② 派 ...</td>\n",
       "    </tr>\n",
       "    <tr>\n",
       "      <th>3</th>\n",
       "      <td>商朝人崇信各种鬼神，把占卜、祭祀作为与神灵沟通的手段，负责通神事务的是商王和巫师（往往出身贵...</td>\n",
       "      <td>单选题</td>\n",
       "      <td>一般</td>\n",
       "      <td>B</td>\n",
       "      <td>据材料“商代，王是人，也是神，既是王朝的元首，又是群巫之长”并结合所学知识可知，这反映了商代...</td>\n",
       "      <td>商朝人崇信各种鬼神，把占卜、祭祀作为与神灵沟通的手段，负责通神事务的是商王和巫师（往往出身贵...</td>\n",
       "      <td>高中_历史</td>\n",
       "      <td>古代史</td>\n",
       "      <td>商朝人 崇信 各种 鬼神 把 占卜 祭祀 作为 与 神灵 沟通 的 手段 负责 通神 事务 ...</td>\n",
       "    </tr>\n",
       "    <tr>\n",
       "      <th>4</th>\n",
       "      <td>公元963年，北宋政府在江淮地区设置了包括盐业管理，以及控制对茶叶销售的专卖等为主要职责的转...</td>\n",
       "      <td>单选题</td>\n",
       "      <td>一般</td>\n",
       "      <td>A</td>\n",
       "      <td>A从材料中可以看出，转运使逐渐变为地方行政长官，表明中央对地方的控制日益加强，中央集权不断加...</td>\n",
       "      <td>公元963年，北宋政府在江淮地区设置了包括盐业管理，以及控制对茶叶销售的专卖等为主要职责的转...</td>\n",
       "      <td>高中_历史</td>\n",
       "      <td>古代史</td>\n",
       "      <td>公元 年 北宋 政府 在 江淮地区 设置 了 包括 盐业 管理 以及 控制 对 茶叶 销售 ...</td>\n",
       "    </tr>\n",
       "  </tbody>\n",
       "</table>\n",
       "</div>"
      ],
      "text/plain": [
       "                                                  题目   题型  难度 答案  \\\n",
       "0  据《左传》记载，春秋后期鲁国大夫季孙氏的家臣阳虎独掌权柄后，标榜要替鲁国国君整肃跋扈的大夫，...  单选题  一般  D   \n",
       "1  秦始皇统一六国后创制了一套御玺。如任命国家官员，则封印“皇帝之玺”；若任命四夷的官员，则用“...  单选题  一般  D   \n",
       "2  北宋加强中央集权的主要措施有①把主要将领的兵权收归中央②派文官担任地方长官③设置通判监督地方...  单选题  一般  B   \n",
       "3  商朝人崇信各种鬼神，把占卜、祭祀作为与神灵沟通的手段，负责通神事务的是商王和巫师（往往出身贵...  单选题  一般  B   \n",
       "4  公元963年，北宋政府在江淮地区设置了包括盐业管理，以及控制对茶叶销售的专卖等为主要职责的转...  单选题  一般  A   \n",
       "\n",
       "                                                  解析  \\\n",
       "0  阳虎的身份是鲁国大夫、季孙氏的家臣，按周礼的规定，他效忠于季孙氏，而他标榜为鲁国国君整肃大夫...   \n",
       "1  本题要求选择否定项，据材料提到，秦始皇统一六国后创制了一套御玺，如任命国家官员，则封印“皇帝...   \n",
       "2  本题考查北宋加强中央集权的主要措施，结合所学知识可知，北宋把主要将领的兵权收归中央，派文官担...   \n",
       "3  据材料“商代，王是人，也是神，既是王朝的元首，又是群巫之长”并结合所学知识可知，这反映了商代...   \n",
       "4  A从材料中可以看出，转运使逐渐变为地方行政长官，表明中央对地方的控制日益加强，中央集权不断加...   \n",
       "\n",
       "                                       combined_text   catg sub_catg  \\\n",
       "0  据《左传》记载，春秋后期鲁国大夫季孙氏的家臣阳虎独掌权柄后，标榜要替鲁国国君整肃跋扈的大夫，...  高中_历史      古代史   \n",
       "1  秦始皇统一六国后创制了一套御玺。如任命国家官员，则封印“皇帝之玺”；若任命四夷的官员，则用“...  高中_历史      古代史   \n",
       "2  北宋加强中央集权的主要措施有①把主要将领的兵权收归中央②派文官担任地方长官③设置通判监督地方...  高中_历史      古代史   \n",
       "3  商朝人崇信各种鬼神，把占卜、祭祀作为与神灵沟通的手段，负责通神事务的是商王和巫师（往往出身贵...  高中_历史      古代史   \n",
       "4  公元963年，北宋政府在江淮地区设置了包括盐业管理，以及控制对茶叶销售的专卖等为主要职责的转...  高中_历史      古代史   \n",
       "\n",
       "                                      split_combined  \n",
       "0  据 左传 记载 春秋 后期 鲁国 大夫 季孙氏 的 家臣 阳虎 独掌 权柄 后 标榜 要 替...  \n",
       "1  秦始皇 统一 六国后 创制 了 一套 御玺 如 任命 国家 官员 则 封印 皇帝 之玺 ； ...  \n",
       "2  北宋 加强 中央集权 的 主要 措施 有 ① 把 主要 将领 的 兵权 收归 中央 ② 派 ...  \n",
       "3  商朝人 崇信 各种 鬼神 把 占卜 祭祀 作为 与 神灵 沟通 的 手段 负责 通神 事务 ...  \n",
       "4  公元 年 北宋 政府 在 江淮地区 设置 了 包括 盐业 管理 以及 控制 对 茶叶 销售 ...  "
      ]
     },
     "execution_count": 371,
     "metadata": {},
     "output_type": "execute_result"
    }
   ],
   "source": [
    "total_df.head()"
   ]
  },
  {
   "cell_type": "markdown",
   "metadata": {},
   "source": [
    "## Multinomial Naive Bayes"
   ]
  },
  {
   "cell_type": "markdown",
   "metadata": {},
   "source": [
    "Assumption:\n",
    "\n",
    "\\begin{equation}\n",
    "P(\\text{class } c = i \\mid \\text{document } d) = \\frac{P(d \\mid c_i)P(c_i)}{P(d)} \\propto P(d \\mid c_i)P(c_i)\n",
    "\\end{equation}\n",
    "\n",
    ", where\n",
    "\n",
    "\\begin{align}\n",
    "P(d | c_i) & = P(n_{w_1}, \\dots, n_{w_M} \\mid c_i) \\sim Multinomial(p_{i, 1}, \\dots, p_{i, m}) \\\\\n",
    "& \\overset{\\text{Multinomial Naive Bayes}}{=} n!\\prod_{i=1}^M \\frac{P(n_{w_i} \\mid c_i)^{n_{w_i}}}{n_{w_i}!} \\\\\n",
    "\\end{align}\n",
    "\n",
    "- $n$ is the number of words in document $d$\n",
    "- $n_{w_i}$ is the number of times word $i$ appears in document $d$ \n",
    "- the MLE for $P(n_{w_i} \\mid c_i)$ is $\\dfrac{\\sum_{d \\in c_i}n_{w_i; d}}{\\sum_{d \\in c_i}n_d}$\n",
    "\n",
    "Hence\n",
    "\n",
    "\\begin{equation}\n",
    "\\log(P(c_i \\mid d)) = log(P(c_i)) + \\sum_{i=1}^M n_{w_i}log(P(n_{w_i} \\mid c_i)) + \\sum_{j=1}^{n} j - \\sum_{i=1}^M\\sum_{j=1}^{n_{w_i}} j\n",
    "\\end{equation}"
   ]
  },
  {
   "cell_type": "code",
   "execution_count": 372,
   "metadata": {
    "ExecuteTime": {
     "end_time": "2020-04-03T06:54:34.855221Z",
     "start_time": "2020-04-03T06:54:34.845091Z"
    }
   },
   "outputs": [],
   "source": [
    "cv = CountVectorizer(min_df=100)"
   ]
  },
  {
   "cell_type": "code",
   "execution_count": 373,
   "metadata": {
    "ExecuteTime": {
     "end_time": "2020-04-03T06:54:37.273217Z",
     "start_time": "2020-04-03T06:54:34.858087Z"
    }
   },
   "outputs": [],
   "source": [
    "features = cv.fit_transform(total_df['split_combined']).toarray()"
   ]
  },
  {
   "cell_type": "markdown",
   "metadata": {},
   "source": [
    "## First Level Categories"
   ]
  },
  {
   "cell_type": "code",
   "execution_count": 384,
   "metadata": {
    "ExecuteTime": {
     "end_time": "2020-04-03T06:59:09.699646Z",
     "start_time": "2020-04-03T06:59:09.470470Z"
    }
   },
   "outputs": [],
   "source": [
    "x_train, x_test, y_train, y_test = train_test_split(features, total_df['catg'], stratify=total_df['catg'])"
   ]
  },
  {
   "cell_type": "code",
   "execution_count": 385,
   "metadata": {
    "ExecuteTime": {
     "end_time": "2020-04-03T06:59:09.705847Z",
     "start_time": "2020-04-03T06:59:09.701762Z"
    }
   },
   "outputs": [
    {
     "data": {
      "text/plain": [
       "(22359, 2525)"
      ]
     },
     "execution_count": 385,
     "metadata": {},
     "output_type": "execute_result"
    }
   ],
   "source": [
    "x_train.shape"
   ]
  },
  {
   "cell_type": "code",
   "execution_count": 405,
   "metadata": {
    "ExecuteTime": {
     "end_time": "2020-04-03T07:03:14.308672Z",
     "start_time": "2020-04-03T07:03:14.301972Z"
    }
   },
   "outputs": [
    {
     "data": {
      "text/plain": [
       "(7454, 2525)"
      ]
     },
     "execution_count": 405,
     "metadata": {},
     "output_type": "execute_result"
    }
   ],
   "source": [
    "x_test.shape"
   ]
  },
  {
   "cell_type": "code",
   "execution_count": 386,
   "metadata": {
    "ExecuteTime": {
     "end_time": "2020-04-03T06:59:10.008292Z",
     "start_time": "2020-04-03T06:59:09.708075Z"
    }
   },
   "outputs": [],
   "source": [
    "# Fitting\n",
    "# Compute probability with Laplace smoothing\n",
    "\n",
    "laplace_coef = 0.1\n",
    "\n",
    "classes = y_train.unique()\n",
    "cond_probs = {}\n",
    "class_probs = {}\n",
    "\n",
    "for c in classes:\n",
    "    c_counts = x_train[y_train == c, :] + laplace_coef\n",
    "    cond_probs.update({c: c_counts.sum(axis = 0) / c_counts.sum()})\n",
    "    class_probs.update({c: (y_train == c).sum() / y_train.shape[0]})"
   ]
  },
  {
   "cell_type": "code",
   "execution_count": 387,
   "metadata": {
    "ExecuteTime": {
     "end_time": "2020-04-03T06:59:10.017506Z",
     "start_time": "2020-04-03T06:59:10.010048Z"
    }
   },
   "outputs": [],
   "source": [
    "# predicting\n",
    "\n",
    "def sum_seq(n):\n",
    "    return (1 + n) * n / 2\n",
    "\n",
    "def predict(x, class_probs, cond_probs, ):\n",
    "    classes = list(cond_probs.keys())\n",
    "    logprobs = []\n",
    "    for c in classes:\n",
    "        logprob = (\n",
    "            np.log(class_probs[c]) + \n",
    "            np.einsum('ij, j -> i', x, np.log(cond_probs[c])) + \n",
    "            sum_seq(x.sum(axis=1)) - \n",
    "            sum_seq(x).sum(axis=1)\n",
    "        )\n",
    "        logprobs.append(logprob)\n",
    "    return np.array(logprobs).T\n",
    "\n",
    "def predict_classes(x, class_probs, cond_probs, classes, ):\n",
    "    pred = predict(x, class_probs, cond_probs, )\n",
    "    return classes[pred.argmax(axis=1)]\n",
    "\n",
    "def get_class_metrics(y_true, y_pred, classes):\n",
    "    res = {}\n",
    "    for c in classes:\n",
    "        class_y = y_true == c\n",
    "        class_pred = y_pred == c\n",
    "        recall = recall_score(class_y, class_pred)\n",
    "        precision = precision_score(class_y, class_pred)\n",
    "        accuracy = accuracy_score(class_y, class_pred)\n",
    "        res.update({\n",
    "            c:{\n",
    "                'accuracy': accuracy,\n",
    "                'precision': precision,\n",
    "                'recall': recall,\n",
    "            }\n",
    "        })\n",
    "    return res"
   ]
  },
  {
   "cell_type": "code",
   "execution_count": 389,
   "metadata": {
    "ExecuteTime": {
     "end_time": "2020-04-03T06:59:12.414776Z",
     "start_time": "2020-04-03T06:59:12.365570Z"
    }
   },
   "outputs": [],
   "source": [
    "pred_train = predict_classes(x_train, class_probs, cond_probs, classes, )\n",
    "pred_test = predict_classes(x_test, class_probs, cond_probs, classes, )\n",
    "\n",
    "train_df = pd.DataFrame(get_class_metrics(y_train, pred_train, classes, ))\n",
    "test_df = pd.DataFrame(get_class_metrics(y_test, pred_test, classes, ))\n",
    "\n",
    "train_df.loc[:, 'sample'] = 'train'\n",
    "train_df = train_df.reset_index().rename({'index': 'metric'}, axis=1).set_index(['sample', 'metric'])\n",
    "test_df.loc[:, 'sample'] = 'test'\n",
    "test_df = test_df.reset_index().rename({'index': 'metric'}, axis=1).set_index(['sample', 'metric'])"
   ]
  },
  {
   "cell_type": "code",
   "execution_count": 393,
   "metadata": {
    "ExecuteTime": {
     "end_time": "2020-04-03T06:59:12.474072Z",
     "start_time": "2020-04-03T06:59:12.460221Z"
    },
    "scrolled": false
   },
   "outputs": [
    {
     "data": {
      "text/html": [
       "<div>\n",
       "<style scoped>\n",
       "    .dataframe tbody tr th:only-of-type {\n",
       "        vertical-align: middle;\n",
       "    }\n",
       "\n",
       "    .dataframe tbody tr th {\n",
       "        vertical-align: top;\n",
       "    }\n",
       "\n",
       "    .dataframe thead tr th {\n",
       "        text-align: left;\n",
       "    }\n",
       "</style>\n",
       "<table border=\"1\" class=\"dataframe\">\n",
       "  <thead>\n",
       "    <tr>\n",
       "      <th>sample</th>\n",
       "      <th colspan=\"3\" halign=\"left\">train</th>\n",
       "      <th colspan=\"3\" halign=\"left\">test</th>\n",
       "    </tr>\n",
       "    <tr>\n",
       "      <th>metric</th>\n",
       "      <th>accuracy</th>\n",
       "      <th>precision</th>\n",
       "      <th>recall</th>\n",
       "      <th>accuracy</th>\n",
       "      <th>precision</th>\n",
       "      <th>recall</th>\n",
       "    </tr>\n",
       "  </thead>\n",
       "  <tbody>\n",
       "    <tr>\n",
       "      <th>高中_生物</th>\n",
       "      <td>0.990742</td>\n",
       "      <td>0.982251</td>\n",
       "      <td>0.998691</td>\n",
       "      <td>0.990341</td>\n",
       "      <td>0.981262</td>\n",
       "      <td>0.998878</td>\n",
       "    </tr>\n",
       "    <tr>\n",
       "      <th>高中_地理</th>\n",
       "      <td>0.985017</td>\n",
       "      <td>0.990301</td>\n",
       "      <td>0.947124</td>\n",
       "      <td>0.986987</td>\n",
       "      <td>0.990196</td>\n",
       "      <td>0.955481</td>\n",
       "    </tr>\n",
       "    <tr>\n",
       "      <th>高中_历史</th>\n",
       "      <td>0.984525</td>\n",
       "      <td>0.932685</td>\n",
       "      <td>0.977730</td>\n",
       "      <td>0.984975</td>\n",
       "      <td>0.938033</td>\n",
       "      <td>0.974256</td>\n",
       "    </tr>\n",
       "    <tr>\n",
       "      <th>高中_政治</th>\n",
       "      <td>0.977817</td>\n",
       "      <td>0.923236</td>\n",
       "      <td>0.878288</td>\n",
       "      <td>0.976523</td>\n",
       "      <td>0.921250</td>\n",
       "      <td>0.868080</td>\n",
       "    </tr>\n",
       "  </tbody>\n",
       "</table>\n",
       "</div>"
      ],
      "text/plain": [
       "sample     train                          test                    \n",
       "metric  accuracy precision    recall  accuracy precision    recall\n",
       "高中_生物   0.990742  0.982251  0.998691  0.990341  0.981262  0.998878\n",
       "高中_地理   0.985017  0.990301  0.947124  0.986987  0.990196  0.955481\n",
       "高中_历史   0.984525  0.932685  0.977730  0.984975  0.938033  0.974256\n",
       "高中_政治   0.977817  0.923236  0.878288  0.976523  0.921250  0.868080"
      ]
     },
     "execution_count": 393,
     "metadata": {},
     "output_type": "execute_result"
    }
   ],
   "source": [
    "pd.concat([train_df.T, test_df.T], axis=1)"
   ]
  },
  {
   "cell_type": "markdown",
   "metadata": {},
   "source": [
    "## Second Level Categories"
   ]
  },
  {
   "cell_type": "code",
   "execution_count": 410,
   "metadata": {
    "ExecuteTime": {
     "end_time": "2020-04-03T07:04:30.731473Z",
     "start_time": "2020-04-03T07:04:30.489118Z"
    }
   },
   "outputs": [],
   "source": [
    "x_train, x_test, y_train, y_test = train_test_split(features, total_df['sub_catg'], stratify=total_df['sub_catg'])"
   ]
  },
  {
   "cell_type": "code",
   "execution_count": 411,
   "metadata": {
    "ExecuteTime": {
     "end_time": "2020-04-03T07:04:31.031571Z",
     "start_time": "2020-04-03T07:04:30.733276Z"
    }
   },
   "outputs": [],
   "source": [
    "# Fitting\n",
    "# Compute probability with Laplace smoothing\n",
    "\n",
    "laplace_coef = 0.1\n",
    "\n",
    "classes = y_train.unique()\n",
    "cond_probs = {}\n",
    "class_probs = {}\n",
    "\n",
    "for c in classes:\n",
    "    c_counts = x_train[y_train == c, :] + laplace_coef\n",
    "    cond_probs.update({c: c_counts.sum(axis = 0) / c_counts.sum()})\n",
    "    class_probs.update({c: (y_train == c).sum() / y_train.shape[0]})"
   ]
  },
  {
   "cell_type": "code",
   "execution_count": 412,
   "metadata": {
    "ExecuteTime": {
     "end_time": "2020-04-03T07:04:42.931447Z",
     "start_time": "2020-04-03T07:04:31.033273Z"
    }
   },
   "outputs": [],
   "source": [
    "pred_train = predict_classes(x_train, class_probs, cond_probs, classes, )\n",
    "pred_test = predict_classes(x_test, class_probs, cond_probs, classes, )\n",
    "\n",
    "train_df = pd.DataFrame(get_class_metrics(y_train, pred_train, classes, ))\n",
    "test_df = pd.DataFrame(get_class_metrics(y_test, pred_test, classes, ))\n",
    "\n",
    "train_df.loc[:, 'sample'] = 'train'\n",
    "train_df = train_df.reset_index().rename({'index': 'metric'}, axis=1).set_index(['sample', 'metric'])\n",
    "test_df.loc[:, 'sample'] = 'test'\n",
    "test_df = test_df.reset_index().rename({'index': 'metric'}, axis=1).set_index(['sample', 'metric'])"
   ]
  },
  {
   "cell_type": "code",
   "execution_count": 413,
   "metadata": {
    "ExecuteTime": {
     "end_time": "2020-04-03T07:04:42.947133Z",
     "start_time": "2020-04-03T07:04:42.932943Z"
    },
    "scrolled": false
   },
   "outputs": [
    {
     "data": {
      "text/html": [
       "<div>\n",
       "<style scoped>\n",
       "    .dataframe tbody tr th:only-of-type {\n",
       "        vertical-align: middle;\n",
       "    }\n",
       "\n",
       "    .dataframe tbody tr th {\n",
       "        vertical-align: top;\n",
       "    }\n",
       "\n",
       "    .dataframe thead tr th {\n",
       "        text-align: left;\n",
       "    }\n",
       "</style>\n",
       "<table border=\"1\" class=\"dataframe\">\n",
       "  <thead>\n",
       "    <tr>\n",
       "      <th>sample</th>\n",
       "      <th colspan=\"3\" halign=\"left\">train</th>\n",
       "      <th colspan=\"3\" halign=\"left\">test</th>\n",
       "    </tr>\n",
       "    <tr>\n",
       "      <th>metric</th>\n",
       "      <th>accuracy</th>\n",
       "      <th>precision</th>\n",
       "      <th>recall</th>\n",
       "      <th>accuracy</th>\n",
       "      <th>precision</th>\n",
       "      <th>recall</th>\n",
       "    </tr>\n",
       "  </thead>\n",
       "  <tbody>\n",
       "    <tr>\n",
       "      <th>分子与细胞</th>\n",
       "      <td>0.971689</td>\n",
       "      <td>0.847054</td>\n",
       "      <td>0.874720</td>\n",
       "      <td>0.969815</td>\n",
       "      <td>0.840314</td>\n",
       "      <td>0.861745</td>\n",
       "    </tr>\n",
       "    <tr>\n",
       "      <th>公民道德与伦理常识</th>\n",
       "      <td>0.982468</td>\n",
       "      <td>0.877850</td>\n",
       "      <td>0.816667</td>\n",
       "      <td>0.982828</td>\n",
       "      <td>0.888060</td>\n",
       "      <td>0.811364</td>\n",
       "    </tr>\n",
       "    <tr>\n",
       "      <th>生物科学与社会</th>\n",
       "      <td>0.942171</td>\n",
       "      <td>0.841709</td>\n",
       "      <td>0.687179</td>\n",
       "      <td>0.940837</td>\n",
       "      <td>0.830446</td>\n",
       "      <td>0.688205</td>\n",
       "    </tr>\n",
       "    <tr>\n",
       "      <th>古代史</th>\n",
       "      <td>0.987253</td>\n",
       "      <td>0.809587</td>\n",
       "      <td>0.810667</td>\n",
       "      <td>0.987389</td>\n",
       "      <td>0.842105</td>\n",
       "      <td>0.768000</td>\n",
       "    </tr>\n",
       "    <tr>\n",
       "      <th>宇宙中的地球</th>\n",
       "      <td>0.989042</td>\n",
       "      <td>0.973194</td>\n",
       "      <td>0.937926</td>\n",
       "      <td>0.988463</td>\n",
       "      <td>0.967814</td>\n",
       "      <td>0.938644</td>\n",
       "    </tr>\n",
       "    <tr>\n",
       "      <th>人口与城市</th>\n",
       "      <td>0.988103</td>\n",
       "      <td>0.906334</td>\n",
       "      <td>0.863212</td>\n",
       "      <td>0.986719</td>\n",
       "      <td>0.882812</td>\n",
       "      <td>0.862595</td>\n",
       "    </tr>\n",
       "    <tr>\n",
       "      <th>稳态与环境</th>\n",
       "      <td>0.978353</td>\n",
       "      <td>0.923850</td>\n",
       "      <td>0.892790</td>\n",
       "      <td>0.976389</td>\n",
       "      <td>0.909714</td>\n",
       "      <td>0.891377</td>\n",
       "    </tr>\n",
       "    <tr>\n",
       "      <th>生物技术实践</th>\n",
       "      <td>0.951876</td>\n",
       "      <td>0.698262</td>\n",
       "      <td>0.333082</td>\n",
       "      <td>0.950631</td>\n",
       "      <td>0.669683</td>\n",
       "      <td>0.334086</td>\n",
       "    </tr>\n",
       "    <tr>\n",
       "      <th>现代生物技术专题</th>\n",
       "      <td>0.949595</td>\n",
       "      <td>0.390343</td>\n",
       "      <td>0.894667</td>\n",
       "      <td>0.949826</td>\n",
       "      <td>0.391986</td>\n",
       "      <td>0.900000</td>\n",
       "    </tr>\n",
       "    <tr>\n",
       "      <th>遗传与进化</th>\n",
       "      <td>0.960374</td>\n",
       "      <td>0.455312</td>\n",
       "      <td>0.692308</td>\n",
       "      <td>0.960021</td>\n",
       "      <td>0.448925</td>\n",
       "      <td>0.642308</td>\n",
       "    </tr>\n",
       "    <tr>\n",
       "      <th>现代史</th>\n",
       "      <td>0.952323</td>\n",
       "      <td>0.708257</td>\n",
       "      <td>0.662851</td>\n",
       "      <td>0.946203</td>\n",
       "      <td>0.664855</td>\n",
       "      <td>0.629503</td>\n",
       "    </tr>\n",
       "    <tr>\n",
       "      <th>科学社会主义常识</th>\n",
       "      <td>0.983541</td>\n",
       "      <td>0.539043</td>\n",
       "      <td>0.995349</td>\n",
       "      <td>0.984572</td>\n",
       "      <td>0.555118</td>\n",
       "      <td>0.986014</td>\n",
       "    </tr>\n",
       "    <tr>\n",
       "      <th>近代史</th>\n",
       "      <td>0.963326</td>\n",
       "      <td>0.668863</td>\n",
       "      <td>0.660163</td>\n",
       "      <td>0.957741</td>\n",
       "      <td>0.616137</td>\n",
       "      <td>0.614634</td>\n",
       "    </tr>\n",
       "    <tr>\n",
       "      <th>科学思维常识</th>\n",
       "      <td>0.995483</td>\n",
       "      <td>0.979592</td>\n",
       "      <td>0.492308</td>\n",
       "      <td>0.995975</td>\n",
       "      <td>1.000000</td>\n",
       "      <td>0.538462</td>\n",
       "    </tr>\n",
       "    <tr>\n",
       "      <th>生产活动与地域联系</th>\n",
       "      <td>0.984794</td>\n",
       "      <td>0.790901</td>\n",
       "      <td>0.899502</td>\n",
       "      <td>0.984706</td>\n",
       "      <td>0.793103</td>\n",
       "      <td>0.892537</td>\n",
       "    </tr>\n",
       "    <tr>\n",
       "      <th>区域可持续发展</th>\n",
       "      <td>0.997585</td>\n",
       "      <td>0.923077</td>\n",
       "      <td>0.489796</td>\n",
       "      <td>0.996109</td>\n",
       "      <td>0.615385</td>\n",
       "      <td>0.250000</td>\n",
       "    </tr>\n",
       "    <tr>\n",
       "      <th>经济学常识</th>\n",
       "      <td>0.992844</td>\n",
       "      <td>0.912773</td>\n",
       "      <td>0.689412</td>\n",
       "      <td>0.992219</td>\n",
       "      <td>0.842975</td>\n",
       "      <td>0.723404</td>\n",
       "    </tr>\n",
       "    <tr>\n",
       "      <th>地球与地图</th>\n",
       "      <td>0.991413</td>\n",
       "      <td>0.679452</td>\n",
       "      <td>0.767802</td>\n",
       "      <td>0.992219</td>\n",
       "      <td>0.704918</td>\n",
       "      <td>0.796296</td>\n",
       "    </tr>\n",
       "    <tr>\n",
       "      <th>生活中的法律常识</th>\n",
       "      <td>0.997272</td>\n",
       "      <td>0.781513</td>\n",
       "      <td>0.726562</td>\n",
       "      <td>0.997854</td>\n",
       "      <td>0.842105</td>\n",
       "      <td>0.761905</td>\n",
       "    </tr>\n",
       "    <tr>\n",
       "      <th>时事政治</th>\n",
       "      <td>0.998077</td>\n",
       "      <td>0.818182</td>\n",
       "      <td>0.180000</td>\n",
       "      <td>0.998256</td>\n",
       "      <td>1.000000</td>\n",
       "      <td>0.235294</td>\n",
       "    </tr>\n",
       "  </tbody>\n",
       "</table>\n",
       "</div>"
      ],
      "text/plain": [
       "sample        train                          test                    \n",
       "metric     accuracy precision    recall  accuracy precision    recall\n",
       "分子与细胞      0.971689  0.847054  0.874720  0.969815  0.840314  0.861745\n",
       "公民道德与伦理常识  0.982468  0.877850  0.816667  0.982828  0.888060  0.811364\n",
       "生物科学与社会    0.942171  0.841709  0.687179  0.940837  0.830446  0.688205\n",
       "古代史        0.987253  0.809587  0.810667  0.987389  0.842105  0.768000\n",
       "宇宙中的地球     0.989042  0.973194  0.937926  0.988463  0.967814  0.938644\n",
       "人口与城市      0.988103  0.906334  0.863212  0.986719  0.882812  0.862595\n",
       "稳态与环境      0.978353  0.923850  0.892790  0.976389  0.909714  0.891377\n",
       "生物技术实践     0.951876  0.698262  0.333082  0.950631  0.669683  0.334086\n",
       "现代生物技术专题   0.949595  0.390343  0.894667  0.949826  0.391986  0.900000\n",
       "遗传与进化      0.960374  0.455312  0.692308  0.960021  0.448925  0.642308\n",
       "现代史        0.952323  0.708257  0.662851  0.946203  0.664855  0.629503\n",
       "科学社会主义常识   0.983541  0.539043  0.995349  0.984572  0.555118  0.986014\n",
       "近代史        0.963326  0.668863  0.660163  0.957741  0.616137  0.614634\n",
       "科学思维常识     0.995483  0.979592  0.492308  0.995975  1.000000  0.538462\n",
       "生产活动与地域联系  0.984794  0.790901  0.899502  0.984706  0.793103  0.892537\n",
       "区域可持续发展    0.997585  0.923077  0.489796  0.996109  0.615385  0.250000\n",
       "经济学常识      0.992844  0.912773  0.689412  0.992219  0.842975  0.723404\n",
       "地球与地图      0.991413  0.679452  0.767802  0.992219  0.704918  0.796296\n",
       "生活中的法律常识   0.997272  0.781513  0.726562  0.997854  0.842105  0.761905\n",
       "时事政治       0.998077  0.818182  0.180000  0.998256  1.000000  0.235294"
      ]
     },
     "execution_count": 413,
     "metadata": {},
     "output_type": "execute_result"
    }
   ],
   "source": [
    "pd.concat([train_df.T, test_df.T], axis=1)"
   ]
  },
  {
   "cell_type": "code",
   "execution_count": null,
   "metadata": {},
   "outputs": [],
   "source": []
  }
 ],
 "metadata": {
  "kernelspec": {
   "display_name": "Python 3",
   "language": "python",
   "name": "python3"
  },
  "language_info": {
   "codemirror_mode": {
    "name": "ipython",
    "version": 3
   },
   "file_extension": ".py",
   "mimetype": "text/x-python",
   "name": "python",
   "nbconvert_exporter": "python",
   "pygments_lexer": "ipython3",
   "version": "3.7.6"
  }
 },
 "nbformat": 4,
 "nbformat_minor": 4
}
